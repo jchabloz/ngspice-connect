{
 "cells": [
  {
   "cell_type": "markdown",
   "metadata": {},
   "source": [
    "# NgspiceX - Monte Carlo simulation example\n",
    "\n",
    "1.0 | 22.08.2021 | jchabloz | First draft<br>\n",
    "1.1 | 21.12.2021 | jchabloz | New run with NgSpice 35<br>\n",
    "1.2 | 27.03.2022 | jchabloz | New run with NgSpice 36<br>\n",
    "1.3 | 31.08.2022 | jchabloz | New run with NgSpice 37, use tqdm.notebook<br>\n",
    "1.4 | 05.03.2023 | jchabloz | New run with NgSpice 39<br>\n",
    "1.5 | 14.05.2023 | jchabloz | New run with NgSpice 40<br>"
   ]
  },
  {
   "cell_type": "markdown",
   "metadata": {
    "toc": true
   },
   "source": [
    "<h1>Table of Contents<span class=\"tocSkip\"></span></h1>\n",
    "<div class=\"toc\"><ul class=\"toc-item\"><li><span><a href=\"#NgspiceX---Monte-Carlo-simulation-example\" data-toc-modified-id=\"NgspiceX---Monte-Carlo-simulation-example-1\">NgspiceX - Monte Carlo simulation example</a></span><ul class=\"toc-item\"><li><span><a href=\"#Introduction\" data-toc-modified-id=\"Introduction-1.1\">Introduction</a></span></li><li><span><a href=\"#Simulation-preparation\" data-toc-modified-id=\"Simulation-preparation-1.2\">Simulation preparation</a></span><ul class=\"toc-item\"><li><span><a href=\"#Expected-results\" data-toc-modified-id=\"Expected-results-1.2.1\">Expected results</a></span></li></ul></li><li><span><a href=\"#Monte-Carlo-simulation-loop\" data-toc-modified-id=\"Monte-Carlo-simulation-loop-1.3\">Monte Carlo simulation loop</a></span></li><li><span><a href=\"#Simulation-results\" data-toc-modified-id=\"Simulation-results-1.4\">Simulation results</a></span><ul class=\"toc-item\"><li><span><a href=\"#Comparison-with-expected-results\" data-toc-modified-id=\"Comparison-with-expected-results-1.4.1\">Comparison with expected results</a></span></li></ul></li><li><span><a href=\"#Conclusion\" data-toc-modified-id=\"Conclusion-1.5\">Conclusion</a></span></li></ul></li></ul></div>"
   ]
  },
  {
   "cell_type": "markdown",
   "metadata": {},
   "source": [
    "## Introduction\n",
    "\n",
    "This notebook intends to demonstrate how to use [ngspice-connect](https://github.com/jchabloz/ngspice-connect) to run efficiently a [Monte Carlo simulation](https://www.wikiwand.com/en/Monte_Carlo_method) with [ngspice](http://ngspice.sourceforge.net/) by using Python instead of resorting to the simulator internal scripting language.\n",
    "\n",
    "In this demo, we create a simple resistive divider circuit with the value of the resistances including some statistical variations. We distinguish a *lot (or process) variation*, that would affect the nominal value of the resistances in a similar manner for all the resistances in the circuit from a *device variation* that affects separately each resistor and that models the mismatch between them."
   ]
  },
  {
   "cell_type": "markdown",
   "metadata": {},
   "source": [
    "## Simulation preparation\n",
    "\n",
    "The demo start by importing all the required packages and creating an instance of the ``NgSpice`` class to access the ngspice shared library."
   ]
  },
  {
   "cell_type": "code",
   "execution_count": 1,
   "metadata": {},
   "outputs": [],
   "source": [
    "from ngspicex import NgSpice\n",
    "import pandas as pd\n",
    "import matplotlib.pyplot as plt\n",
    "import seaborn as sns\n",
    "from math import sqrt\n",
    "from tqdm.notebook import tqdm\n",
    "from time import perf_counter"
   ]
  },
  {
   "cell_type": "code",
   "execution_count": 2,
   "metadata": {},
   "outputs": [
    {
     "name": "stdout",
     "output_type": "stream",
     "text": [
      " ******\n",
      " ** ngspice-40 shared library\n",
      " ** Creation Date: Sun May 14 09:03:07 UTC 2023\n",
      " ******\n"
     ]
    }
   ],
   "source": [
    "ngx = NgSpice()"
   ]
  },
  {
   "cell_type": "markdown",
   "metadata": {},
   "source": [
    "We define a few parameters for the simulation:"
   ]
  },
  {
   "cell_type": "code",
   "execution_count": 3,
   "metadata": {},
   "outputs": [],
   "source": [
    "V1 = 1.0            #[V]    Input voltage\n",
    "sigma_R_lot = 100   #[Ohms] Standard deviation (lot)\n",
    "sigma_R_dev = 200   #[Ohms] Standard deviation (device)\n",
    "R = 1e4             #[Ohms] Resistances nominal value\n",
    "lot = 0             #[-]    0: don't use lot variations, 1: use lot variations\n",
    "dev = 1             #[-]    0: don't use device variations, 1: use device variations\n",
    "niter = 1000        #[-]    Number of iterations"
   ]
  },
  {
   "cell_type": "markdown",
   "metadata": {},
   "source": [
    "The next step is to create the circuit in ngspice. If we want to use parameters, the easiest is to use the ``send_circ()`` function, especially for a small netlist. The netlist is sent line after line to ngspice.\n",
    "The statistical variations of the resistors value are introduced via parameters and the built-in ngspice `agauss` function."
   ]
  },
  {
   "cell_type": "code",
   "execution_count": 4,
   "metadata": {},
   "outputs": [
    {
     "name": "stdout",
     "output_type": "stream",
     "text": [
      "Source Deck\n",
      " Note: No compatibility mode selected!\n",
      " Circuit: *test monte-carlo of resistive divider\n"
     ]
    }
   ],
   "source": [
    "ngx.send_circ(\n",
    "    \"*Test Monte-Carlo of resistive divider\",\n",
    "    \".param __LOT__ = {:d}\".format(lot),\n",
    "    \".param __DEV__ = {:d}\".format(dev),\n",
    "    \".param r0 = {}\".format(R),\n",
    "    \".param dr0 = agauss(0.0, '{}*__LOT__', 1) rval='r0 + dr0'\".format(sigma_R_lot),\n",
    "    \".param dr1 = agauss(0.0, '{}*__DEV__', 1)\".format(sigma_R_dev),\n",
    "    \"R1 n1 n2 'rval + dr1'\",\n",
    "    \"R2 n2 0 'rval + dr1'\",\n",
    "    \"V1 n1 0 DC {}\".format(V1),\n",
    "    \".op\",\n",
    "    \".end\")"
   ]
  },
  {
   "cell_type": "markdown",
   "metadata": {},
   "source": [
    "### Expected results\n",
    "\n",
    "Let us consider the case for ``lot = 0, dev = 1``.\n",
    "What are the expected statistics for the voltage at the middle point of the resistive divider and the current through it?\n",
    "\n",
    "Since we consider the case for which both resistances of the divider are nominally equal $R_1 = R_2 = R$, we can calculate the expected standard deviations for both the output voltage $\\sigma_{V_2}$ and the current $\\sigma_I$ as\n",
    "\n",
    "$$\\begin{align}\n",
    "\\sigma_{V_2} &= \\frac{1}{\\sqrt{2}}\\frac{\\sigma_R}{R}\\cdot\\frac{V_1}{2}\\\\\n",
    "\\sigma_{I} &= \\frac{1}{\\sqrt{2}}\\frac{\\sigma_R}{R}\\cdot\\frac{V_1}{2R}\\\\\n",
    "\\end{align}$$."
   ]
  },
  {
   "cell_type": "code",
   "execution_count": 5,
   "metadata": {},
   "outputs": [
    {
     "name": "stdout",
     "output_type": "stream",
     "text": [
      "Expected standard deviation on V(n2) (lot=0, dev=1) = 7.071mV\n",
      "Expected standard deviation on I(V1) (lot=0, dev=1) = 0.707uA\n"
     ]
    }
   ],
   "source": [
    "sigma_V2 = 1/sqrt(2)*sigma_R_dev/R*V1/2\n",
    "sigma_I = 1/sqrt(2)*sigma_R_dev/R*V1/2/R\n",
    "\n",
    "print(\"Expected standard deviation on V(n2) (lot=0, dev=1) = {:.3f}mV\".format(sigma_V2*1e3))\n",
    "print(\"Expected standard deviation on I(V1) (lot=0, dev=1) = {:.3f}uA\".format(sigma_I*1e6))"
   ]
  },
  {
   "cell_type": "markdown",
   "metadata": {},
   "source": [
    "## Monte Carlo simulation loop\n",
    "\n",
    "Using Python, it is actually quite easy to run a simulation loop, collect the results and concatenate them into a single [pandas](https://pandas.pydata.org) DataFrame. Using [tqdm](https://tqdm.github.io/) to show a progress bar makes for a nice way to monitor the progress of the loop.\n",
    "Note that in order to make sure that the values of the parameters are recomputed for each iteration, the `reset` commands needs to be used."
   ]
  },
  {
   "cell_type": "code",
   "execution_count": 6,
   "metadata": {},
   "outputs": [
    {
     "data": {
      "application/vnd.jupyter.widget-view+json": {
       "model_id": "34c7261dad694f55ae96cd09f2d3757f",
       "version_major": 2,
       "version_minor": 0
      },
      "text/plain": [
       "  0%|          | 0/1000 [00:00<?, ?it/s]"
      ]
     },
     "metadata": {},
     "output_type": "display_data"
    },
    {
     "name": "stdout",
     "output_type": "stream",
     "text": [
      "Monte Carlo loop time: 3.046s\n"
     ]
    }
   ],
   "source": [
    "dfx=[]\n",
    "t0 = perf_counter()\n",
    "for i in tqdm(range(niter)):\n",
    "    ngx.reset()\n",
    "    ngx.run(silent=True)\n",
    "    dfx.append(ngx.get_all_vectors())\n",
    "df_out = pd.concat(dfx)\n",
    "t1 = perf_counter()\n",
    "print(\"Monte Carlo loop time: {:.3f}s\".format(t1 - t0))"
   ]
  },
  {
   "cell_type": "markdown",
   "metadata": {},
   "source": [
    "## Simulation results\n",
    "\n",
    "Having directly the simulation results in a pandas DataFrame allows to use all the available powerful tools of pandas and associated libraries to analyze them.\n",
    "\n",
    "For example, using the `describe()` method allows to get a quick overview of the content and statistics of a DataFrame."
   ]
  },
  {
   "cell_type": "code",
   "execution_count": 7,
   "metadata": {},
   "outputs": [
    {
     "data": {
      "text/html": [
       "<div>\n",
       "<style scoped>\n",
       "    .dataframe tbody tr th:only-of-type {\n",
       "        vertical-align: middle;\n",
       "    }\n",
       "\n",
       "    .dataframe tbody tr th {\n",
       "        vertical-align: top;\n",
       "    }\n",
       "\n",
       "    .dataframe thead th {\n",
       "        text-align: right;\n",
       "    }\n",
       "</style>\n",
       "<table border=\"1\" class=\"dataframe\">\n",
       "  <thead>\n",
       "    <tr style=\"text-align: right;\">\n",
       "      <th></th>\n",
       "      <th>count</th>\n",
       "      <th>mean</th>\n",
       "      <th>std</th>\n",
       "      <th>min</th>\n",
       "      <th>25%</th>\n",
       "      <th>50%</th>\n",
       "      <th>75%</th>\n",
       "      <th>max</th>\n",
       "    </tr>\n",
       "  </thead>\n",
       "  <tbody>\n",
       "    <tr>\n",
       "      <th>i(v1)</th>\n",
       "      <td>1000.0</td>\n",
       "      <td>-0.000050</td>\n",
       "      <td>7.034985e-07</td>\n",
       "      <td>-0.000053</td>\n",
       "      <td>-0.000050</td>\n",
       "      <td>-0.000050</td>\n",
       "      <td>-0.000050</td>\n",
       "      <td>-0.000048</td>\n",
       "    </tr>\n",
       "    <tr>\n",
       "      <th>n2</th>\n",
       "      <td>1000.0</td>\n",
       "      <td>0.500069</td>\n",
       "      <td>6.967118e-03</td>\n",
       "      <td>0.476528</td>\n",
       "      <td>0.495562</td>\n",
       "      <td>0.500095</td>\n",
       "      <td>0.504428</td>\n",
       "      <td>0.522837</td>\n",
       "    </tr>\n",
       "    <tr>\n",
       "      <th>n1</th>\n",
       "      <td>1000.0</td>\n",
       "      <td>1.000000</td>\n",
       "      <td>0.000000e+00</td>\n",
       "      <td>1.000000</td>\n",
       "      <td>1.000000</td>\n",
       "      <td>1.000000</td>\n",
       "      <td>1.000000</td>\n",
       "      <td>1.000000</td>\n",
       "    </tr>\n",
       "  </tbody>\n",
       "</table>\n",
       "</div>"
      ],
      "text/plain": [
       "        count      mean           std       min       25%       50%       75%  \\\n",
       "i(v1)  1000.0 -0.000050  7.034985e-07 -0.000053 -0.000050 -0.000050 -0.000050   \n",
       "n2     1000.0  0.500069  6.967118e-03  0.476528  0.495562  0.500095  0.504428   \n",
       "n1     1000.0  1.000000  0.000000e+00  1.000000  1.000000  1.000000  1.000000   \n",
       "\n",
       "            max  \n",
       "i(v1) -0.000048  \n",
       "n2     0.522837  \n",
       "n1     1.000000  "
      ]
     },
     "execution_count": 7,
     "metadata": {},
     "output_type": "execute_result"
    }
   ],
   "source": [
    "df_out.describe().T"
   ]
  },
  {
   "cell_type": "markdown",
   "metadata": {},
   "source": [
    "We can also plot the distributions for the variables of interest. For example using the nice [seaborn library](https://seaborn.pydata.org/)."
   ]
  },
  {
   "cell_type": "code",
   "execution_count": 8,
   "metadata": {},
   "outputs": [],
   "source": [
    "sns.set_theme(context='notebook', style='whitegrid')"
   ]
  },
  {
   "cell_type": "code",
   "execution_count": 9,
   "metadata": {
    "scrolled": false
   },
   "outputs": [
    {
     "data": {
      "image/png": "[encoded data removed]",
      "text/plain": [
       "<Figure size 1400x600 with 2 Axes>"
      ]
     },
     "metadata": {},
     "output_type": "display_data"
    }
   ],
   "source": [
    "f, axs = plt.subplots(1, 2, figsize=(14,6), sharey=True)\n",
    "sns.histplot(data=df_out, x=\"i(v1)\", ax=axs[0], stat='probability', kde=True)\n",
    "_ = sns.histplot(data=df_out, x=\"n2\", ax=axs[1], stat='probability', kde=True)"
   ]
  },
  {
   "cell_type": "markdown",
   "metadata": {},
   "source": [
    "### Comparison with expected results"
   ]
  },
  {
   "cell_type": "code",
   "execution_count": 10,
   "metadata": {},
   "outputs": [
    {
     "name": "stdout",
     "output_type": "stream",
     "text": [
      "Expected standard deviation on V(n2) = 7.071mV\n",
      "Simulated standard deviation on V(n2) = 6.967mV\n",
      "Error = -1.5%\n"
     ]
    }
   ],
   "source": [
    "sigma_V2_sim = df_out.n2.std()\n",
    "print(\"Expected standard deviation on V(n2) = {:.3f}mV\".format(sigma_V2*1e3))\n",
    "print(\"Simulated standard deviation on V(n2) = {:.3f}mV\".format(sigma_V2_sim*1e3))\n",
    "print(\"Error = {:.1f}%\".format((sigma_V2_sim/sigma_V2 - 1)*100.0))"
   ]
  },
  {
   "cell_type": "code",
   "execution_count": 11,
   "metadata": {},
   "outputs": [
    {
     "name": "stdout",
     "output_type": "stream",
     "text": [
      "Expected standard deviation on I(V1) = 0.707uA\n",
      "Simulated standard deviation on I(V1) = 0.703uA\n",
      "Error = -0.5%\n"
     ]
    }
   ],
   "source": [
    "sigma_I_sim = df_out['i(v1)'].std()\n",
    "print(\"Expected standard deviation on I(V1) = {:.3f}uA\".format(sigma_I*1e6))\n",
    "print(\"Simulated standard deviation on I(V1) = {:.3f}uA\".format(sigma_I_sim*1e6))\n",
    "print(\"Error = {:.1f}%\".format((sigma_I_sim/sigma_I - 1)*100.0))"
   ]
  },
  {
   "cell_type": "markdown",
   "metadata": {},
   "source": [
    "## Conclusion\n",
    "\n",
    "We have demonstrated that using the ngspice-connect Python wrapper to ngspice shared library allows to efficiently run a Monte Carlo simulation loop with very little overhead.\n",
    "Using an example based on a very simple resistive divider netlist, we have seen that the obtained results using the ngspice built-in `agauss` function are consistent with the theoretical results."
   ]
  }
 ],
 "metadata": {
  "kernelspec": {
   "display_name": "ngspicex_venv",
   "language": "python",
   "name": "ngspicex_venv"
  },
  "language_info": {
   "codemirror_mode": {
    "name": "ipython",
    "version": 3
   },
   "file_extension": ".py",
   "mimetype": "text/x-python",
   "name": "python",
   "nbconvert_exporter": "python",
   "pygments_lexer": "ipython3",
   "version": "3.8.10"
  },
  "toc": {
   "base_numbering": 1,
   "nav_menu": {},
   "number_sections": false,
   "sideBar": true,
   "skip_h1_title": false,
   "title_cell": "Table of Contents",
   "title_sidebar": "Contents",
   "toc_cell": true,
   "toc_position": {
    "height": "168.783px",
    "left": "10px",
    "top": "150px",
    "width": "185.333px"
   },
   "toc_section_display": true,
   "toc_window_display": false
  }
 },
 "nbformat": 4,
 "nbformat_minor": 4
}
